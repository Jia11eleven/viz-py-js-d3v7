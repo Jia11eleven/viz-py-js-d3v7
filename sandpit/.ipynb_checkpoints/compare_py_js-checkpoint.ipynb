{
 "cells": [
  {
   "cell_type": "code",
   "execution_count": 1,
   "id": "27bf1025-a951-4cf8-9e2d-1313cab6db1a",
   "metadata": {},
   "outputs": [
    {
     "data": {
      "text/plain": [
       "'All OK'"
      ]
     },
     "execution_count": 1,
     "metadata": {},
     "output_type": "execute_result"
    }
   ],
   "source": [
    "rocket_launch = True\n",
    "(rocket_launch ==True and 'All OK') or 'We have a problem'"
   ]
  },
  {
   "cell_type": "code",
   "execution_count": 2,
   "id": "a16e5bfd-d0f4-4c08-a385-033550ab9b8a",
   "metadata": {},
   "outputs": [
    {
     "data": {
      "text/plain": [
       "4"
      ]
     },
     "execution_count": 2,
     "metadata": {},
     "output_type": "execute_result"
    }
   ],
   "source": [
    "a=3\n",
    "b=4\n",
    "a,b = b,a\n",
    "a"
   ]
  },
  {
   "cell_type": "code",
   "execution_count": 3,
   "id": "89548ba7-5f33-42dc-b4fa-8c8e25d62e3c",
   "metadata": {},
   "outputs": [],
   "source": [
    "def fibonacci(n):\n",
    "    x,y = 0,1\n",
    "    for i in range(n):\n",
    "        print(x)\n",
    "        x,y = y,x+y"
   ]
  },
  {
   "cell_type": "code",
   "execution_count": 4,
   "id": "52e3a6ba-3489-4b4d-b161-cfe512b1c1b7",
   "metadata": {},
   "outputs": [
    {
     "name": "stdout",
     "output_type": "stream",
     "text": [
      "0\n",
      "1\n",
      "1\n",
      "2\n",
      "3\n"
     ]
    }
   ],
   "source": [
    "fibonacci(5)"
   ]
  },
  {
   "cell_type": "code",
   "execution_count": 7,
   "id": "0613acfd-cac0-4017-a3a8-a0d9fbac265b",
   "metadata": {},
   "outputs": [
    {
     "data": {
      "text/plain": [
       "'AE'"
      ]
     },
     "execution_count": 7,
     "metadata": {},
     "output_type": "execute_result"
    }
   ],
   "source": [
    "winner = 'AE','pyhysics',1921,'swiss'\n",
    "name,_,_,nationality =winner\n",
    "name"
   ]
  },
  {
   "cell_type": "code",
   "execution_count": 8,
   "id": "6b8119ff-66be-4bc2-a05b-934f4d6f6f70",
   "metadata": {},
   "outputs": [],
   "source": [
    "from collections import Counter, defaultdict,OrderedDict"
   ]
  },
  {
   "cell_type": "code",
   "execution_count": 9,
   "id": "539f5743-7257-4442-ad2b-dd5c419c7545",
   "metadata": {},
   "outputs": [],
   "source": [
    "items = ['F','C','C','A','B','A','C','E','F']"
   ]
  },
  {
   "cell_type": "code",
   "execution_count": 10,
   "id": "d58e8f13-bd48-4abd-895a-be4556f45f65",
   "metadata": {},
   "outputs": [
    {
     "data": {
      "text/plain": [
       "Counter({'C': 3, 'F': 2, 'A': 2, 'B': 1, 'E': 1})"
      ]
     },
     "execution_count": 10,
     "metadata": {},
     "output_type": "execute_result"
    }
   ],
   "source": [
    "cntr = Counter(items)\n",
    "cntr"
   ]
  },
  {
   "cell_type": "code",
   "execution_count": 11,
   "id": "4e906813-d686-4e71-a40d-22fab64ee597",
   "metadata": {},
   "outputs": [
    {
     "data": {
      "text/plain": [
       "Counter({'F': 2, 'C': 2, 'A': 2, 'B': 1, 'E': 1})"
      ]
     },
     "execution_count": 11,
     "metadata": {},
     "output_type": "execute_result"
    }
   ],
   "source": [
    "cntr['C'] -=1\n",
    "cntr"
   ]
  },
  {
   "cell_type": "code",
   "execution_count": 16,
   "id": "d6c94c86-e4ea-4f74-b384-9d2ab381d692",
   "metadata": {},
   "outputs": [
    {
     "data": {
      "text/plain": [
       "defaultdict(int, {'F': 2, 'C': 3, 'A': 2, 'B': 1, 'E': 1})"
      ]
     },
     "execution_count": 16,
     "metadata": {},
     "output_type": "execute_result"
    }
   ],
   "source": [
    "d = defaultdict(int)\n",
    "for item in items:\n",
    "    d[item]+=1\n",
    "d"
   ]
  },
  {
   "cell_type": "code",
   "execution_count": 17,
   "id": "d1d2b214-56ab-4c19-85c7-cc444555ae16",
   "metadata": {},
   "outputs": [
    {
     "data": {
      "text/plain": [
       "OrderedDict([('B', 1), ('E', 1), ('F', 2), ('A', 2), ('C', 3)])"
      ]
     },
     "execution_count": 17,
     "metadata": {},
     "output_type": "execute_result"
    }
   ],
   "source": [
    "OrderedDict(sorted(d.items(),key=lambda i:i[1]))"
   ]
  },
  {
   "cell_type": "code",
   "execution_count": 2,
   "id": "a5e60d5c-9e7d-4a5d-b19e-ead9a264cf06",
   "metadata": {},
   "outputs": [
    {
     "data": {
      "text/plain": [
       "165"
      ]
     },
     "execution_count": 2,
     "metadata": {},
     "output_type": "execute_result"
    }
   ],
   "source": [
    "nums = range(10)\n",
    "odd_squares = [x*x for x in nums if x%2]\n",
    "sum(odd_squares)"
   ]
  },
  {
   "cell_type": "code",
   "execution_count": 3,
   "id": "68a6354b-8acb-4ca3-8a23-afbf9b0b04c1",
   "metadata": {},
   "outputs": [
    {
     "data": {
      "text/plain": [
       "165"
      ]
     },
     "execution_count": 3,
     "metadata": {},
     "output_type": "execute_result"
    }
   ],
   "source": [
    "def is_odd(x):\n",
    "    return x%2\n",
    "\n",
    "def sq(x):\n",
    "    return x**2\n",
    "\n",
    "sum([sq(x) for x in nums if is_odd(x)])\n"
   ]
  },
  {
   "cell_type": "code",
   "execution_count": 6,
   "id": "2c32e9c2-686b-443a-ba48-fe57abcf251a",
   "metadata": {},
   "outputs": [
    {
     "data": {
      "text/plain": [
       "165"
      ]
     },
     "execution_count": 6,
     "metadata": {},
     "output_type": "execute_result"
    }
   ],
   "source": [
    "from functools import reduce\n",
    "nums = range(10)\n",
    "odds = filter(lambda x:x%2, nums)\n",
    "odds_sq = map(lambda x: x**2, odds)\n",
    "reduce(lambda x,y: x+y, odds_sq)"
   ]
  },
  {
   "cell_type": "code",
   "execution_count": 1,
   "id": "0934a2ab-f7a8-48be-adaf-f8dbb328749b",
   "metadata": {},
   "outputs": [
    {
     "ename": "SyntaxError",
     "evalue": "incomplete input (97501701.py, line 1)",
     "output_type": "error",
     "traceback": [
      "\u001b[1;36m  Cell \u001b[1;32mIn[1], line 1\u001b[1;36m\u001b[0m\n\u001b[1;33m    def get_counter(inc):\u001b[0m\n\u001b[1;37m                         ^\u001b[0m\n\u001b[1;31mSyntaxError\u001b[0m\u001b[1;31m:\u001b[0m incomplete input\n"
     ]
    }
   ],
   "source": []
  },
  {
   "cell_type": "code",
   "execution_count": null,
   "id": "84210573-1ef4-43fd-9aa4-1e3be3a28c9a",
   "metadata": {},
   "outputs": [],
   "source": []
  }
 ],
 "metadata": {
  "kernelspec": {
   "display_name": "Python 3 (ipykernel)",
   "language": "python",
   "name": "python3"
  },
  "language_info": {
   "codemirror_mode": {
    "name": "ipython",
    "version": 3
   },
   "file_extension": ".py",
   "mimetype": "text/x-python",
   "name": "python",
   "nbconvert_exporter": "python",
   "pygments_lexer": "ipython3",
   "version": "3.11.10"
  }
 },
 "nbformat": 4,
 "nbformat_minor": 5
}
