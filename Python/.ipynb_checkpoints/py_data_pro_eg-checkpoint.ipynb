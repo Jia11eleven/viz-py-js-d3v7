{
 "cells": [
  {
   "cell_type": "code",
   "execution_count": 2,
   "id": "9997e54f-4aa1-43e2-8def-9d09923f8980",
   "metadata": {},
   "outputs": [],
   "source": [
    "#A\n",
    "student_data = [\n",
    "    {'name': 'Bob', 'id': 0, 'scores':[68,75,56,81]},\n",
    "    {'name': 'Alice', 'id': 1, 'scores':[75,90,64,88]},\n",
    "    {'name': 'Carol', 'id': 2, 'scores':[59,74,71,68]},\n",
    "    {'name': 'Dan', 'id': 3, 'scores':[64,58,53,62]}\n",
    "]"
   ]
  },
  {
   "cell_type": "code",
   "execution_count": 11,
   "id": "c57a4b06-23b7-48ff-9683-b3862efe82e7",
   "metadata": {},
   "outputs": [],
   "source": [
    "#B\n",
    "def process_student_data(data, \n",
    "                         pass_threshold=60, \n",
    "                         merit_threshold=75):\n",
    "    \"\"\"Perform some basic stats on student data.\"\"\"\n",
    "    \n",
    "    for sdata in data:\n",
    "        # Calculate the average score\n",
    "        av = sum(sdata['scores']) / float(len(sdata['scores']))\n",
    "        sdata['average'] = av\n",
    "        \n",
    "        # Determine the assessment\n",
    "        if av > merit_threshold:\n",
    "            sdata['assessment'] = 'pass with merit'\n",
    "        elif av > pass_threshold:\n",
    "            sdata['assessment'] = 'passed'\n",
    "        else:\n",
    "            sdata['assessment'] = 'failed'\n",
    "        \n",
    "        # Print the student's final assessment\n",
    "        print(\"%s's (id: %d) final assessment is: %s\" % \n",
    "              (sdata['name'], sdata['id'], sdata['assessment'].upper()))"
   ]
  },
  {
   "cell_type": "code",
   "execution_count": 12,
   "id": "6fdf0e62-5b8d-487a-ad8d-693da6d35bff",
   "metadata": {},
   "outputs": [
    {
     "name": "stdout",
     "output_type": "stream",
     "text": [
      "Bob's (id: 0) final assessment is: PASSED\n",
      "Alice's (id: 1) final assessment is: PASS WITH MERIT\n",
      "Carol's (id: 2) final assessment is: PASSED\n",
      "Dan's (id: 3) final assessment is: FAILED\n"
     ]
    }
   ],
   "source": [
    "#E\n",
    "if __name__=='__main__':\n",
    "    process_student_data(student_data)"
   ]
  },
  {
   "cell_type": "code",
   "execution_count": null,
   "id": "fa54f763-37b5-41a3-ba48-f003eb0ace38",
   "metadata": {},
   "outputs": [],
   "source": []
  }
 ],
 "metadata": {
  "kernelspec": {
   "display_name": "Python 3 (ipykernel)",
   "language": "python",
   "name": "python3"
  },
  "language_info": {
   "codemirror_mode": {
    "name": "ipython",
    "version": 3
   },
   "file_extension": ".py",
   "mimetype": "text/x-python",
   "name": "python",
   "nbconvert_exporter": "python",
   "pygments_lexer": "ipython3",
   "version": "3.11.10"
  }
 },
 "nbformat": 4,
 "nbformat_minor": 5
}
