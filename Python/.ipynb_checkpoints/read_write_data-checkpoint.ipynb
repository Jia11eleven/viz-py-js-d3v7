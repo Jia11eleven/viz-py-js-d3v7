{
 "cells": [
  {
   "cell_type": "code",
   "execution_count": 1,
   "id": "b9dc0bed-b81e-4bfb-9d2a-c59ab3ec28ad",
   "metadata": {},
   "outputs": [],
   "source": [
    "import os\n",
    "new_directory = \"D:/Python_Scripts/DataViz_JS_Python\"  # Replace with your desired path\n",
    "os.chdir(new_directory)"
   ]
  },
  {
   "cell_type": "markdown",
   "id": "f506e4da-c0e2-4ed5-b481-67e90e0e3b53",
   "metadata": {},
   "source": [
    "CSV"
   ]
  },
  {
   "cell_type": "code",
   "execution_count": 2,
   "id": "eb044842-85d4-4d9b-a6c7-e4fedc922d96",
   "metadata": {},
   "outputs": [],
   "source": [
    "nobel_winners = [\n",
    "    {'category':'Physics',\n",
    "     'name':'Albert Einstein',\n",
    "     'nationality':'Swiss',\n",
    "     'sex':'male',\n",
    "     'year':1921},\n",
    "    {'category':'Physics',\n",
    "     'name':'Paul Dirac',\n",
    "     'nationality':'British',\n",
    "     'sex':'male',\n",
    "     'year':1933},\n",
    "    {'category':'Chemistry',\n",
    "     'name':'Marie Curie',\n",
    "     'nationality':'Polish',\n",
    "     'sex':'female',\n",
    "     'year':1911}\n",
    "]"
   ]
  },
  {
   "cell_type": "code",
   "execution_count": 3,
   "id": "fe77ecf9-7a09-4887-880d-27ac139f965e",
   "metadata": {},
   "outputs": [],
   "source": [
    "f = open('data/nobel_winners.csv','w')"
   ]
  },
  {
   "cell_type": "code",
   "execution_count": 4,
   "id": "a3465120-e7cc-4bf3-9558-140ccfe9359d",
   "metadata": {},
   "outputs": [
    {
     "data": {
      "text/plain": [
       "['category', 'name', 'nationality', 'sex', 'year']"
      ]
     },
     "execution_count": 4,
     "metadata": {},
     "output_type": "execute_result"
    }
   ],
   "source": [
    "cols = sorted(nobel_winners[0].keys())\n",
    "cols\n"
   ]
  },
  {
   "cell_type": "code",
   "execution_count": 5,
   "id": "959db528-08cb-47f2-bf8a-13d868ba883b",
   "metadata": {},
   "outputs": [],
   "source": [
    "with open('data/nobel_winners.csv','w') as f:\n",
    "    f.write(','.join(cols)+'\\n')\n",
    "    for o in nobel_winners: \n",
    "        row = [str(o[col]) for col in cols]\n",
    "        f.write(','.join(row) + '\\n')"
   ]
  },
  {
   "cell_type": "code",
   "execution_count": 6,
   "id": "ae411f70-e3e8-404c-b652-7fe459bde61a",
   "metadata": {},
   "outputs": [
    {
     "name": "stdout",
     "output_type": "stream",
     "text": [
      "category,name,nationality,sex,year\n",
      "\n",
      "Physics,Albert Einstein,Swiss,male,1921\n",
      "\n",
      "Physics,Paul Dirac,British,male,1933\n",
      "\n",
      "Chemistry,Marie Curie,Polish,female,1911\n",
      "\n"
     ]
    }
   ],
   "source": [
    "with open('data/nobel_winners.csv') as f:\n",
    "    for line in f.readlines():\n",
    "        print(line)"
   ]
  },
  {
   "cell_type": "code",
   "execution_count": 7,
   "id": "3ecb3e3b-e8d5-4d11-9965-11989cffc784",
   "metadata": {},
   "outputs": [],
   "source": [
    "import csv"
   ]
  },
  {
   "cell_type": "code",
   "execution_count": 8,
   "id": "097cf1b4-3eee-46ea-8f64-07dbb66a9067",
   "metadata": {},
   "outputs": [],
   "source": [
    "#using DictWriter to write csv file\n",
    "#open('data/nobel_winners.csv','wb') would expect byte-like objects\n",
    "with open('data/nobel_winners.csv','w',\n",
    "          newline='', encoding='utf-8') as f: #avoid extra empty lines\n",
    "    fieldnames = sorted(nobel_winners[0].keys())\n",
    "    writer = csv.DictWriter(f,fieldnames=fieldnames)\n",
    "    writer.writeheader()\n",
    "    for w in nobel_winners:\n",
    "        writer.writerow(w)\n",
    "    "
   ]
  },
  {
   "cell_type": "code",
   "execution_count": 9,
   "id": "d7357a95-9c17-41a7-9010-7f7e3b183ea7",
   "metadata": {},
   "outputs": [
    {
     "name": "stdout",
     "output_type": "stream",
     "text": [
      "['category', 'name', 'nationality', 'sex', 'year']\n",
      "['Physics', 'Albert Einstein', 'Swiss', 'male', '1921']\n",
      "['Physics', 'Paul Dirac', 'British', 'male', '1933']\n",
      "['Chemistry', 'Marie Curie', 'Polish', 'female', '1911']\n"
     ]
    }
   ],
   "source": [
    "with open('data/nobel_winners.csv') as f:\n",
    "    reader = csv.reader(f)\n",
    "    for row in reader:\n",
    "        print(row) #numbers read in string form"
   ]
  },
  {
   "cell_type": "code",
   "execution_count": 10,
   "id": "5448f5f4-a046-425d-87bd-420f2f4b6e00",
   "metadata": {},
   "outputs": [
    {
     "data": {
      "text/plain": [
       "[{'category': 'Physics',\n",
       "  'name': 'Albert Einstein',\n",
       "  'nationality': 'Swiss',\n",
       "  'sex': 'male',\n",
       "  'year': '1921'},\n",
       " {'category': 'Physics',\n",
       "  'name': 'Paul Dirac',\n",
       "  'nationality': 'British',\n",
       "  'sex': 'male',\n",
       "  'year': '1933'},\n",
       " {'category': 'Chemistry',\n",
       "  'name': 'Marie Curie',\n",
       "  'nationality': 'Polish',\n",
       "  'sex': 'female',\n",
       "  'year': '1911'}]"
      ]
     },
     "execution_count": 10,
     "metadata": {},
     "output_type": "execute_result"
    }
   ],
   "source": [
    "#read in rows as dictionary for easier data processing\n",
    "with open('data/nobel_winners.csv') as f:\n",
    "    reader = csv.DictReader(f)\n",
    "    nobel_winners = list(reader)\n",
    "\n",
    "nobel_winners"
   ]
  },
  {
   "cell_type": "code",
   "execution_count": 11,
   "id": "f5d3de51-98da-420b-a62c-d1fc84632999",
   "metadata": {},
   "outputs": [],
   "source": [
    "for w in nobel_winners:\n",
    "    w['year'] = int(w['year'])"
   ]
  },
  {
   "cell_type": "markdown",
   "id": "04174f8e-9f4e-4887-a750-0d39dea615fe",
   "metadata": {},
   "source": [
    "JSON"
   ]
  },
  {
   "cell_type": "code",
   "execution_count": 12,
   "id": "2ca9e27a-4609-44a6-b383-85f0cece688b",
   "metadata": {},
   "outputs": [],
   "source": [
    "import json"
   ]
  },
  {
   "cell_type": "code",
   "execution_count": 13,
   "id": "22483438-ab4d-4315-9f5a-b7e839bf2c9b",
   "metadata": {},
   "outputs": [],
   "source": [
    "with open('data/nobel_winners.json','w') as f:\n",
    "    json.dump(nobel_winners,f)"
   ]
  },
  {
   "cell_type": "code",
   "execution_count": 14,
   "id": "f0af2f1e-6e64-4186-9874-2a18aea40d8c",
   "metadata": {},
   "outputs": [
    {
     "data": {
      "text/plain": [
       "'[{\"category\": \"Physics\", \"name\": \"Albert Einstein\", \"nationality\": \"Swiss\", \"sex\": \"male\", \"year\": 1921}, {\"category\": \"Physics\", \"name\": \"Paul Dirac\", \"nationality\": \"British\", \"sex\": \"male\", \"year\": 1933}, {\"category\": \"Chemistry\", \"name\": \"Marie Curie\", \"nationality\": \"Polish\", \"sex\": \"female\", \"year\": 1911}]'"
      ]
     },
     "execution_count": 14,
     "metadata": {},
     "output_type": "execute_result"
    }
   ],
   "source": [
    "open('data/nobel_winners.json').read()"
   ]
  },
  {
   "cell_type": "code",
   "execution_count": 15,
   "id": "184cc29f-7ee6-47db-a85c-9f9eaa7dfe28",
   "metadata": {},
   "outputs": [
    {
     "data": {
      "text/plain": [
       "[{'category': 'Physics',\n",
       "  'name': 'Albert Einstein',\n",
       "  'nationality': 'Swiss',\n",
       "  'sex': 'male',\n",
       "  'year': 1921},\n",
       " {'category': 'Physics',\n",
       "  'name': 'Paul Dirac',\n",
       "  'nationality': 'British',\n",
       "  'sex': 'male',\n",
       "  'year': 1933},\n",
       " {'category': 'Chemistry',\n",
       "  'name': 'Marie Curie',\n",
       "  'nationality': 'Polish',\n",
       "  'sex': 'female',\n",
       "  'year': 1911}]"
      ]
     },
     "execution_count": 15,
     "metadata": {},
     "output_type": "execute_result"
    }
   ],
   "source": [
    "with open('data/nobel_winners.json') as f:\n",
    "    nobel_winners = json.load(f) #data property preserved\n",
    "nobel_winners"
   ]
  },
  {
   "cell_type": "code",
   "execution_count": 16,
   "id": "b314d790-2b10-4c59-805a-16cbd90fbf8b",
   "metadata": {},
   "outputs": [],
   "source": [
    "#date and times in json\n",
    "from datetime import datetime\n",
    "#json.dumps(datetime.now()) #this will produce type error"
   ]
  },
  {
   "cell_type": "code",
   "execution_count": 17,
   "id": "27c7d7b3-7217-46c2-8551-6a50889abfe1",
   "metadata": {},
   "outputs": [],
   "source": [
    "#encoding datetime to JSON\n",
    "import datetime\n",
    "from dateutil import parser\n",
    "\n",
    "class JSONDateTimeEncoder(json.JSONEncoder): #to create customized date-handling\n",
    "    def default(self,obj):\n",
    "        if isinstance(obj, (datetime.date,datetime.time)):\n",
    "            return obj.isoformat()\n",
    "        else:\n",
    "            return json.JSONEncoder.defult(self,obj)\n",
    "def dumps(obj):\n",
    "    return json.dumps(obj,cls=JSONDateTimeEncoder)"
   ]
  },
  {
   "cell_type": "code",
   "execution_count": 18,
   "id": "ad66c8bf-c844-46ff-a7dc-a658d80a0e3b",
   "metadata": {},
   "outputs": [
    {
     "data": {
      "text/plain": [
       "'{\"time\": \"2024-12-18T10:58:07.173991\"}'"
      ]
     },
     "execution_count": 18,
     "metadata": {},
     "output_type": "execute_result"
    }
   ],
   "source": [
    "now_str = dumps({'time':datetime.datetime.now()})\n",
    "now_str"
   ]
  },
  {
   "cell_type": "code",
   "execution_count": 19,
   "id": "0ac3c525-7852-4bb7-824f-249b0c75102c",
   "metadata": {},
   "outputs": [
    {
     "data": {
      "text/plain": [
       "datetime.datetime(2012, 1, 1, 12, 32, 11)"
      ]
     },
     "execution_count": 19,
     "metadata": {},
     "output_type": "execute_result"
    }
   ],
   "source": [
    "time_str = '2012/01/01 12:32:11'\n",
    "dt = datetime.datetime.strptime(time_str, '%Y/%m/%d %H:%M:%S')\n",
    "dt"
   ]
  },
  {
   "cell_type": "code",
   "execution_count": 20,
   "id": "76d01f58-3163-4690-a6c8-b797bde246f9",
   "metadata": {},
   "outputs": [
    {
     "data": {
      "text/plain": [
       "\"\\nfor d in data:\\n    try:\\n        d['date'] = datetim.strptime(d['date'],'%Y/%m/%d %H:%M:%S')\\n    except ValueError:\\n    print('Oops! -invalid date for ' + repr(d))\\n\""
      ]
     },
     "execution_count": 20,
     "metadata": {},
     "output_type": "execute_result"
    }
   ],
   "source": [
    "#usual practice in code\n",
    "'''\n",
    "for d in data:\n",
    "    try:\n",
    "        d['date'] = datetim.strptime(d['date'],'%Y/%m/%d %H:%M:%S')\n",
    "    except ValueError:\n",
    "    print('Oops! -invalid date for ' + repr(d))\n",
    "'''\n",
    "        "
   ]
  },
  {
   "cell_type": "markdown",
   "id": "208c4b9f-8a5a-473d-b119-0ab76a813eb5",
   "metadata": {},
   "source": [
    "SQL"
   ]
  },
  {
   "cell_type": "code",
   "execution_count": 21,
   "id": "193024de-2546-4925-a490-e1e96a77427b",
   "metadata": {},
   "outputs": [
    {
     "data": {
      "text/plain": [
       "[{'category': 'Physics',\n",
       "  'name': 'Albert Einstein',\n",
       "  'nationality': 'Swiss',\n",
       "  'sex': 'male',\n",
       "  'year': 1921},\n",
       " {'category': 'Physics',\n",
       "  'name': 'Paul Dirac',\n",
       "  'nationality': 'British',\n",
       "  'sex': 'male',\n",
       "  'year': 1933},\n",
       " {'category': 'Chemistry',\n",
       "  'name': 'Marie Curie',\n",
       "  'nationality': 'Polish',\n",
       "  'sex': 'female',\n",
       "  'year': 1911}]"
      ]
     },
     "execution_count": 21,
     "metadata": {},
     "output_type": "execute_result"
    }
   ],
   "source": [
    "nobel_winners"
   ]
  },
  {
   "cell_type": "code",
   "execution_count": 22,
   "id": "c275210c-1682-4c35-935b-901efd75dc95",
   "metadata": {},
   "outputs": [],
   "source": [
    "from sqlalchemy import create_engine"
   ]
  },
  {
   "cell_type": "code",
   "execution_count": 23,
   "id": "2f976e2d-3078-4b48-a139-ab76166aa93e",
   "metadata": {},
   "outputs": [],
   "source": [
    "engine = create_engine('sqlite:///data/nobel_prize.db',echo=True)"
   ]
  },
  {
   "cell_type": "code",
   "execution_count": 24,
   "id": "4f2dcf7a-deb4-468f-8609-c8eefacd8247",
   "metadata": {},
   "outputs": [],
   "source": [
    "from sqlalchemy.orm import declarative_base"
   ]
  },
  {
   "cell_type": "code",
   "execution_count": 25,
   "id": "06934303-e313-4c2f-b21b-c71cedc8f8df",
   "metadata": {},
   "outputs": [],
   "source": [
    "Base = declarative_base()"
   ]
  },
  {
   "cell_type": "code",
   "execution_count": 26,
   "id": "9c07b42f-5966-455b-a1fd-d324b1c9af84",
   "metadata": {},
   "outputs": [],
   "source": [
    "#defining an SQL database table\n",
    "from sqlalchemy import Column, Integer, String, Enum\n",
    "class Winner(Base):\n",
    "    __tablename__ = 'winners'\n",
    "    id = Column(Integer, primary_key=True)\n",
    "    name = Column(String)\n",
    "    category = Column(String)\n",
    "    year = Column(Integer)\n",
    "    nationality = Column(String)\n",
    "    sex = Column(Enum('male','female'))\n",
    "\n",
    "    def __repr__(self):\n",
    "        return \"<Winner(name='%s', category='%s', year='%s')>\" \\\n",
    "        %(self.name, self.category, self.year)"
   ]
  },
  {
   "cell_type": "code",
   "execution_count": 27,
   "id": "e6bf2324-bea6-489e-a437-e70bf4b36531",
   "metadata": {},
   "outputs": [
    {
     "name": "stdout",
     "output_type": "stream",
     "text": [
      "2024-12-18 10:58:07,396 INFO sqlalchemy.engine.Engine BEGIN (implicit)\n",
      "2024-12-18 10:58:07,397 INFO sqlalchemy.engine.Engine PRAGMA main.table_info(\"winners\")\n",
      "2024-12-18 10:58:07,398 INFO sqlalchemy.engine.Engine [raw sql] ()\n",
      "2024-12-18 10:58:07,416 INFO sqlalchemy.engine.Engine COMMIT\n"
     ]
    }
   ],
   "source": [
    "Base.metadata.create_all(engine)"
   ]
  },
  {
   "cell_type": "code",
   "execution_count": 28,
   "id": "6ce3f271-4c9f-4d57-abbc-5afa403f6a45",
   "metadata": {},
   "outputs": [],
   "source": [
    "#adding instances with a session\n",
    "from sqlalchemy.orm import sessionmaker\n",
    "\n",
    "Session =sessionmaker(bind=engine)\n",
    "session = Session()"
   ]
  },
  {
   "cell_type": "code",
   "execution_count": 29,
   "id": "9ccaa337-c9f3-4b7d-a1d8-a19d3fe2ddba",
   "metadata": {},
   "outputs": [
    {
     "data": {
      "text/plain": [
       "<Winner(name='Albert Einstein', category='Physics', year='1921')>"
      ]
     },
     "execution_count": 29,
     "metadata": {},
     "output_type": "execute_result"
    }
   ],
   "source": [
    "albert = Winner(**nobel_winners[0])\n",
    "# ** unpack the valune in to key-value pairs\n",
    "albert"
   ]
  },
  {
   "cell_type": "code",
   "execution_count": 30,
   "id": "daf2bf86-645a-4efa-b31c-df1a5ba6710a",
   "metadata": {},
   "outputs": [
    {
     "data": {
      "text/plain": [
       "IdentitySet([<Winner(name='Albert Einstein', category='Physics', year='1921')>])"
      ]
     },
     "execution_count": 30,
     "metadata": {},
     "output_type": "execute_result"
    }
   ],
   "source": [
    "session.add(albert)\n",
    "session.new"
   ]
  },
  {
   "cell_type": "code",
   "execution_count": 31,
   "id": "6f8edccd-71b7-4dfe-8052-e1db18d89690",
   "metadata": {},
   "outputs": [
    {
     "data": {
      "text/plain": [
       "IdentitySet([])"
      ]
     },
     "execution_count": 31,
     "metadata": {},
     "output_type": "execute_result"
    }
   ],
   "source": [
    "#remove object\n",
    "session.expunge(albert)\n",
    "session.new"
   ]
  },
  {
   "cell_type": "code",
   "execution_count": 32,
   "id": "07d7c6d3-7a78-4943-89c6-3f1fb95e42a1",
   "metadata": {},
   "outputs": [
    {
     "name": "stdout",
     "output_type": "stream",
     "text": [
      "2024-12-18 10:58:07,460 INFO sqlalchemy.engine.Engine BEGIN (implicit)\n",
      "2024-12-18 10:58:07,463 INFO sqlalchemy.engine.Engine INSERT INTO winners (name, category, year, nationality, sex) VALUES (?, ?, ?, ?, ?)\n",
      "2024-12-18 10:58:07,463 INFO sqlalchemy.engine.Engine [generated in 0.00062s] ('Albert Einstein', 'Physics', 1921, 'Swiss', 'male')\n",
      "2024-12-18 10:58:07,464 INFO sqlalchemy.engine.Engine INSERT INTO winners (name, category, year, nationality, sex) VALUES (?, ?, ?, ?, ?)\n",
      "2024-12-18 10:58:07,465 INFO sqlalchemy.engine.Engine [cached since 0.002158s ago] ('Paul Dirac', 'Physics', 1933, 'British', 'male')\n",
      "2024-12-18 10:58:07,466 INFO sqlalchemy.engine.Engine INSERT INTO winners (name, category, year, nationality, sex) VALUES (?, ?, ?, ?, ?)\n",
      "2024-12-18 10:58:07,467 INFO sqlalchemy.engine.Engine [cached since 0.003806s ago] ('Marie Curie', 'Chemistry', 1911, 'Polish', 'female')\n",
      "2024-12-18 10:58:07,468 INFO sqlalchemy.engine.Engine COMMIT\n"
     ]
    }
   ],
   "source": [
    "winner_rows = [Winner(**w) for w in nobel_winners]\n",
    "session.add_all(winner_rows)\n",
    "session.commit()"
   ]
  },
  {
   "cell_type": "code",
   "execution_count": 33,
   "id": "a7f6bc7d-458e-4b24-9293-ec0663d6e045",
   "metadata": {},
   "outputs": [
    {
     "name": "stdout",
     "output_type": "stream",
     "text": [
      "2024-12-18 10:58:07,484 INFO sqlalchemy.engine.Engine BEGIN (implicit)\n",
      "2024-12-18 10:58:07,489 INFO sqlalchemy.engine.Engine SELECT count(*) AS count_1 \n",
      "FROM (SELECT winners.id AS winners_id, winners.name AS winners_name, winners.category AS winners_category, winners.year AS winners_year, winners.nationality AS winners_nationality, winners.sex AS winners_sex \n",
      "FROM winners) AS anon_1\n",
      "2024-12-18 10:58:07,490 INFO sqlalchemy.engine.Engine [generated in 0.00118s] ()\n"
     ]
    },
    {
     "data": {
      "text/plain": [
       "9"
      ]
     },
     "execution_count": 33,
     "metadata": {},
     "output_type": "execute_result"
    }
   ],
   "source": [
    "session.query(Winner).count()"
   ]
  },
  {
   "cell_type": "code",
   "execution_count": 34,
   "id": "b37a1ba2-230f-46f6-85e1-dce5127b0562",
   "metadata": {},
   "outputs": [
    {
     "name": "stdout",
     "output_type": "stream",
     "text": [
      "2024-12-18 10:58:07,498 INFO sqlalchemy.engine.Engine SELECT winners.id AS winners_id, winners.name AS winners_name, winners.category AS winners_category, winners.year AS winners_year, winners.nationality AS winners_nationality, winners.sex AS winners_sex \n",
      "FROM winners \n",
      "WHERE winners.nationality = ?\n",
      "2024-12-18 10:58:07,499 INFO sqlalchemy.engine.Engine [generated in 0.00117s] ('Swiss',)\n"
     ]
    },
    {
     "data": {
      "text/plain": [
       "[<Winner(name='Albert Einstein', category='Physics', year='1921')>,\n",
       " <Winner(name='Albert Einstein', category='Physics', year='1921')>,\n",
       " <Winner(name='Albert Einstein', category='Physics', year='1921')>]"
      ]
     },
     "execution_count": 34,
     "metadata": {},
     "output_type": "execute_result"
    }
   ],
   "source": [
    "result = session.query(Winner).filter_by(nationality='Swiss')\n",
    "list(result)"
   ]
  },
  {
   "cell_type": "code",
   "execution_count": 35,
   "id": "dd67767a-c698-46ae-9ff8-3f4ed37fcf34",
   "metadata": {},
   "outputs": [
    {
     "name": "stdout",
     "output_type": "stream",
     "text": [
      "2024-12-18 10:58:07,508 INFO sqlalchemy.engine.Engine SELECT winners.id AS winners_id, winners.name AS winners_name, winners.category AS winners_category, winners.year AS winners_year, winners.nationality AS winners_nationality, winners.sex AS winners_sex \n",
      "FROM winners \n",
      "WHERE winners.category = ? AND winners.nationality != ?\n",
      "2024-12-18 10:58:07,509 INFO sqlalchemy.engine.Engine [generated in 0.00106s] ('Physics', 'Swiss')\n"
     ]
    },
    {
     "data": {
      "text/plain": [
       "[<Winner(name='Paul Dirac', category='Physics', year='1933')>,\n",
       " <Winner(name='Paul Dirac', category='Physics', year='1933')>,\n",
       " <Winner(name='Paul Dirac', category='Physics', year='1933')>]"
      ]
     },
     "execution_count": 35,
     "metadata": {},
     "output_type": "execute_result"
    }
   ],
   "source": [
    "result = session.query(Winner).filter(Winner.category == 'Physics', Winner.nationality != 'Swiss')\n",
    "list(result)"
   ]
  },
  {
   "cell_type": "code",
   "execution_count": 36,
   "id": "979d6899-1804-458f-92fe-06e42002b16d",
   "metadata": {},
   "outputs": [
    {
     "name": "stdout",
     "output_type": "stream",
     "text": [
      "2024-12-18 10:58:07,518 INFO sqlalchemy.engine.Engine SELECT winners.id AS winners_id, winners.name AS winners_name, winners.category AS winners_category, winners.year AS winners_year, winners.nationality AS winners_nationality, winners.sex AS winners_sex \n",
      "FROM winners \n",
      "WHERE winners.id = ?\n",
      "2024-12-18 10:58:07,519 INFO sqlalchemy.engine.Engine [generated in 0.00077s] (3,)\n"
     ]
    },
    {
     "name": "stderr",
     "output_type": "stream",
     "text": [
      "C:\\Users\\Jasmine\\AppData\\Local\\Temp\\ipykernel_26260\\678933525.py:1: LegacyAPIWarning: Deprecated API features detected! These feature(s) are not compatible with SQLAlchemy 2.0. To prevent incompatible upgrades prior to updating applications, ensure requirements files are pinned to \"sqlalchemy<2.0\". Set environment variable SQLALCHEMY_WARN_20=1 to show all deprecation warnings.  Set environment variable SQLALCHEMY_SILENCE_UBER_WARNING=1 to silence this message. (Background on SQLAlchemy 2.0 at: https://sqlalche.me/e/b8d9)\n",
      "  session.query(Winner).get(3)\n"
     ]
    },
    {
     "data": {
      "text/plain": [
       "<Winner(name='Marie Curie', category='Chemistry', year='1911')>"
      ]
     },
     "execution_count": 36,
     "metadata": {},
     "output_type": "execute_result"
    }
   ],
   "source": [
    "session.query(Winner).get(3)"
   ]
  },
  {
   "cell_type": "code",
   "execution_count": 37,
   "id": "b3fc2e9d-c8db-4ba0-91ea-9df2ad8c4292",
   "metadata": {},
   "outputs": [
    {
     "name": "stdout",
     "output_type": "stream",
     "text": [
      "2024-12-18 10:58:07,526 INFO sqlalchemy.engine.Engine SELECT winners.id AS winners_id, winners.name AS winners_name, winners.category AS winners_category, winners.year AS winners_year, winners.nationality AS winners_nationality, winners.sex AS winners_sex \n",
      "FROM winners ORDER BY winners.year\n",
      "2024-12-18 10:58:07,528 INFO sqlalchemy.engine.Engine [generated in 0.00117s] ()\n"
     ]
    },
    {
     "data": {
      "text/plain": [
       "[<Winner(name='Marie Curie', category='Chemistry', year='1911')>,\n",
       " <Winner(name='Marie Curie', category='Chemistry', year='1911')>,\n",
       " <Winner(name='Marie Curie', category='Chemistry', year='1911')>,\n",
       " <Winner(name='Albert Einstein', category='Physics', year='1921')>,\n",
       " <Winner(name='Albert Einstein', category='Physics', year='1921')>,\n",
       " <Winner(name='Albert Einstein', category='Physics', year='1921')>,\n",
       " <Winner(name='Paul Dirac', category='Physics', year='1933')>,\n",
       " <Winner(name='Paul Dirac', category='Physics', year='1933')>,\n",
       " <Winner(name='Paul Dirac', category='Physics', year='1933')>]"
      ]
     },
     "execution_count": 37,
     "metadata": {},
     "output_type": "execute_result"
    }
   ],
   "source": [
    "res = session.query(Winner).order_by('year')\n",
    "list(res)"
   ]
  },
  {
   "cell_type": "code",
   "execution_count": 38,
   "id": "4d9ae26f-c50c-4524-af11-7dedbcc70036",
   "metadata": {},
   "outputs": [],
   "source": [
    "#convert an SQLAlchemy instance to dict\n",
    "def inst_to_dict(inst,delete_id=True):\n",
    "    dat={}\n",
    "    for column in inst.__table__.columns:\n",
    "        dat[column.name] = getattr(inst,column.name)\n",
    "    if delete_id:\n",
    "            dat.pop('id')\n",
    "    return dat"
   ]
  },
  {
   "cell_type": "code",
   "execution_count": 39,
   "id": "9a7ef178-f9d0-4891-a7f3-d96426a39bec",
   "metadata": {},
   "outputs": [
    {
     "name": "stdout",
     "output_type": "stream",
     "text": [
      "2024-12-18 10:58:07,546 INFO sqlalchemy.engine.Engine SELECT winners.id AS winners_id, winners.name AS winners_name, winners.category AS winners_category, winners.year AS winners_year, winners.nationality AS winners_nationality, winners.sex AS winners_sex \n",
      "FROM winners\n",
      "2024-12-18 10:58:07,547 INFO sqlalchemy.engine.Engine [generated in 0.00107s] ()\n"
     ]
    },
    {
     "data": {
      "text/plain": [
       "[{'name': 'Albert Einstein',\n",
       "  'category': 'Physics',\n",
       "  'year': 1921,\n",
       "  'nationality': 'Swiss',\n",
       "  'sex': 'male'},\n",
       " {'name': 'Paul Dirac',\n",
       "  'category': 'Physics',\n",
       "  'year': 1933,\n",
       "  'nationality': 'British',\n",
       "  'sex': 'male'},\n",
       " {'name': 'Marie Curie',\n",
       "  'category': 'Chemistry',\n",
       "  'year': 1911,\n",
       "  'nationality': 'Polish',\n",
       "  'sex': 'female'},\n",
       " {'name': 'Albert Einstein',\n",
       "  'category': 'Physics',\n",
       "  'year': 1921,\n",
       "  'nationality': 'Swiss',\n",
       "  'sex': 'male'},\n",
       " {'name': 'Paul Dirac',\n",
       "  'category': 'Physics',\n",
       "  'year': 1933,\n",
       "  'nationality': 'British',\n",
       "  'sex': 'male'},\n",
       " {'name': 'Marie Curie',\n",
       "  'category': 'Chemistry',\n",
       "  'year': 1911,\n",
       "  'nationality': 'Polish',\n",
       "  'sex': 'female'},\n",
       " {'name': 'Albert Einstein',\n",
       "  'category': 'Physics',\n",
       "  'year': 1921,\n",
       "  'nationality': 'Swiss',\n",
       "  'sex': 'male'},\n",
       " {'name': 'Paul Dirac',\n",
       "  'category': 'Physics',\n",
       "  'year': 1933,\n",
       "  'nationality': 'British',\n",
       "  'sex': 'male'},\n",
       " {'name': 'Marie Curie',\n",
       "  'category': 'Chemistry',\n",
       "  'year': 1911,\n",
       "  'nationality': 'Polish',\n",
       "  'sex': 'female'}]"
      ]
     },
     "execution_count": 39,
     "metadata": {},
     "output_type": "execute_result"
    }
   ],
   "source": [
    "winner_rows = session.query(Winner)\n",
    "nobel_winners = [inst_to_dict(w) for w in winner_rows]\n",
    "nobel_winners"
   ]
  },
  {
   "cell_type": "code",
   "execution_count": 40,
   "id": "4ab2ef54-5caa-43ff-a2ce-794d54be47c0",
   "metadata": {},
   "outputs": [
    {
     "data": {
      "text/plain": [
       "IdentitySet([<Winner(name='Marie Curie', category='Chemistry', year='1911')>])"
      ]
     },
     "execution_count": 40,
     "metadata": {},
     "output_type": "execute_result"
    }
   ],
   "source": [
    "#update database rows\n",
    "marie = session.query(Winner).get(3)\n",
    "marie.nationality = 'French'\n",
    "session.dirty #dirty shows any changed instance not committed yet"
   ]
  },
  {
   "cell_type": "code",
   "execution_count": 41,
   "id": "f57db44e-e6c0-432e-aefc-98c7cff8fc95",
   "metadata": {},
   "outputs": [
    {
     "name": "stdout",
     "output_type": "stream",
     "text": [
      "2024-12-18 10:58:07,564 INFO sqlalchemy.engine.Engine UPDATE winners SET nationality=? WHERE winners.id = ?\n",
      "2024-12-18 10:58:07,565 INFO sqlalchemy.engine.Engine [generated in 0.00096s] ('French', 3)\n",
      "2024-12-18 10:58:07,566 INFO sqlalchemy.engine.Engine COMMIT\n"
     ]
    }
   ],
   "source": [
    "session.commit()"
   ]
  },
  {
   "cell_type": "code",
   "execution_count": 42,
   "id": "9c488b15-42ff-4e15-9b0c-ed6d9390a75c",
   "metadata": {},
   "outputs": [
    {
     "data": {
      "text/plain": [
       "IdentitySet([])"
      ]
     },
     "execution_count": 42,
     "metadata": {},
     "output_type": "execute_result"
    }
   ],
   "source": [
    "session.dirty"
   ]
  },
  {
   "cell_type": "code",
   "execution_count": 43,
   "id": "2cfd55d3-a8c1-4272-953c-854dd17b468d",
   "metadata": {},
   "outputs": [
    {
     "name": "stdout",
     "output_type": "stream",
     "text": [
      "2024-12-18 10:58:07,593 INFO sqlalchemy.engine.Engine BEGIN (implicit)\n",
      "2024-12-18 10:58:07,595 INFO sqlalchemy.engine.Engine SELECT winners.id AS winners_id, winners.name AS winners_name, winners.category AS winners_category, winners.year AS winners_year, winners.nationality AS winners_nationality, winners.sex AS winners_sex \n",
      "FROM winners \n",
      "WHERE winners.id = ?\n",
      "2024-12-18 10:58:07,597 INFO sqlalchemy.engine.Engine [generated in 0.00117s] (3,)\n"
     ]
    },
    {
     "data": {
      "text/plain": [
       "'French'"
      ]
     },
     "execution_count": 43,
     "metadata": {},
     "output_type": "execute_result"
    }
   ],
   "source": [
    "session.query(Winner).get(3).nationality"
   ]
  },
  {
   "cell_type": "code",
   "execution_count": 44,
   "id": "846a31ea-d3e0-4977-8737-aaba701e857c",
   "metadata": {},
   "outputs": [],
   "source": [
    "#session.query(Winner).filter_by(name='Albert Einstein').delete()"
   ]
  },
  {
   "cell_type": "code",
   "execution_count": 45,
   "id": "2b3c43b2-6974-47a3-ae8e-2f1c2412a15c",
   "metadata": {},
   "outputs": [],
   "source": [
    "#list(session.query(Winner))"
   ]
  },
  {
   "cell_type": "code",
   "execution_count": 46,
   "id": "af8f588c-070c-43ed-828b-4b9b79147c12",
   "metadata": {},
   "outputs": [
    {
     "name": "stdout",
     "output_type": "stream",
     "text": [
      "2024-12-18 10:58:07,619 INFO sqlalchemy.engine.Engine ROLLBACK\n"
     ]
    }
   ],
   "source": [
    "session.close()  # Closes the session\n",
    "engine.dispose()"
   ]
  },
  {
   "cell_type": "code",
   "execution_count": 47,
   "id": "bc3f043e-f146-4dbe-bfa6-86807e80abc6",
   "metadata": {},
   "outputs": [],
   "source": [
    "#drop table\n",
    "#Winner.__table__.drop(engine)"
   ]
  },
  {
   "cell_type": "code",
   "execution_count": 48,
   "id": "a4203412-9a10-4a79-9f56-1d67eb0ebc35",
   "metadata": {},
   "outputs": [],
   "source": [
    "import dataset\n",
    "db = dataset.connect('sqlite:///data/nobel_prize.db')"
   ]
  },
  {
   "cell_type": "code",
   "execution_count": 49,
   "id": "6695afe7-62f2-4ec7-88ad-36b9177524b3",
   "metadata": {},
   "outputs": [
    {
     "data": {
      "text/plain": [
       "[OrderedDict([('id', 1),\n",
       "              ('name', 'Albert Einstein'),\n",
       "              ('category', 'Physics'),\n",
       "              ('year', 1921),\n",
       "              ('nationality', 'Swiss'),\n",
       "              ('sex', 'male')]),\n",
       " OrderedDict([('id', 2),\n",
       "              ('name', 'Paul Dirac'),\n",
       "              ('category', 'Physics'),\n",
       "              ('year', 1933),\n",
       "              ('nationality', 'British'),\n",
       "              ('sex', 'male')]),\n",
       " OrderedDict([('id', 3),\n",
       "              ('name', 'Marie Curie'),\n",
       "              ('category', 'Chemistry'),\n",
       "              ('year', 1911),\n",
       "              ('nationality', 'French'),\n",
       "              ('sex', 'female')]),\n",
       " OrderedDict([('id', 4),\n",
       "              ('name', 'Albert Einstein'),\n",
       "              ('category', 'Physics'),\n",
       "              ('year', 1921),\n",
       "              ('nationality', 'Swiss'),\n",
       "              ('sex', 'male')]),\n",
       " OrderedDict([('id', 5),\n",
       "              ('name', 'Paul Dirac'),\n",
       "              ('category', 'Physics'),\n",
       "              ('year', 1933),\n",
       "              ('nationality', 'British'),\n",
       "              ('sex', 'male')]),\n",
       " OrderedDict([('id', 6),\n",
       "              ('name', 'Marie Curie'),\n",
       "              ('category', 'Chemistry'),\n",
       "              ('year', 1911),\n",
       "              ('nationality', 'Polish'),\n",
       "              ('sex', 'female')]),\n",
       " OrderedDict([('id', 7),\n",
       "              ('name', 'Albert Einstein'),\n",
       "              ('category', 'Physics'),\n",
       "              ('year', 1921),\n",
       "              ('nationality', 'Swiss'),\n",
       "              ('sex', 'male')]),\n",
       " OrderedDict([('id', 8),\n",
       "              ('name', 'Paul Dirac'),\n",
       "              ('category', 'Physics'),\n",
       "              ('year', 1933),\n",
       "              ('nationality', 'British'),\n",
       "              ('sex', 'male')]),\n",
       " OrderedDict([('id', 9),\n",
       "              ('name', 'Marie Curie'),\n",
       "              ('category', 'Chemistry'),\n",
       "              ('year', 1911),\n",
       "              ('nationality', 'Polish'),\n",
       "              ('sex', 'female')])]"
      ]
     },
     "execution_count": 49,
     "metadata": {},
     "output_type": "execute_result"
    }
   ],
   "source": [
    "wtable=db['winners']\n",
    "winners = wtable.find()\n",
    "winners = list(winners)\n",
    "winners"
   ]
  },
  {
   "cell_type": "code",
   "execution_count": 50,
   "id": "74c3c942-f349-45de-a53c-4c35284e8d57",
   "metadata": {},
   "outputs": [],
   "source": [
    "#recreate winners table\n",
    "wtable = db['winners']\n",
    "wtable.drop()"
   ]
  },
  {
   "cell_type": "code",
   "execution_count": 51,
   "id": "ca360fd3-04d7-4113-be5a-3c9eb5bf29fe",
   "metadata": {},
   "outputs": [
    {
     "data": {
      "text/plain": [
       "[]"
      ]
     },
     "execution_count": 51,
     "metadata": {},
     "output_type": "execute_result"
    }
   ],
   "source": [
    "wtable = db['winners']\n",
    "list(wtable.find())"
   ]
  },
  {
   "cell_type": "code",
   "execution_count": 52,
   "id": "58b73902-7759-4416-a408-1c5adcee614d",
   "metadata": {},
   "outputs": [
    {
     "name": "stderr",
     "output_type": "stream",
     "text": [
      "D:\\Anaconda\\envs\\DataViz_JS_Python\\Lib\\site-packages\\dataset\\table.py:313: RuntimeWarning: Changing the database schema inside a transaction in a multi-threaded environment is likely to lead to race conditions and synchronization issues.\n",
      "  warnings.warn(\n"
     ]
    }
   ],
   "source": [
    "with db as tx:\n",
    "    for w in nobel_winners:\n",
    "        tx['winners'].insert(w)"
   ]
  },
  {
   "cell_type": "code",
   "execution_count": 53,
   "id": "57b56355-6a51-4cb9-9673-7c8736cdcdc8",
   "metadata": {},
   "outputs": [
    {
     "data": {
      "text/plain": [
       "[OrderedDict([('id', 1),\n",
       "              ('name', 'Albert Einstein'),\n",
       "              ('category', 'Physics'),\n",
       "              ('year', 1921),\n",
       "              ('nationality', 'Swiss'),\n",
       "              ('sex', 'male')]),\n",
       " OrderedDict([('id', 2),\n",
       "              ('name', 'Paul Dirac'),\n",
       "              ('category', 'Physics'),\n",
       "              ('year', 1933),\n",
       "              ('nationality', 'British'),\n",
       "              ('sex', 'male')]),\n",
       " OrderedDict([('id', 3),\n",
       "              ('name', 'Marie Curie'),\n",
       "              ('category', 'Chemistry'),\n",
       "              ('year', 1911),\n",
       "              ('nationality', 'Polish'),\n",
       "              ('sex', 'female')]),\n",
       " OrderedDict([('id', 4),\n",
       "              ('name', 'Albert Einstein'),\n",
       "              ('category', 'Physics'),\n",
       "              ('year', 1921),\n",
       "              ('nationality', 'Swiss'),\n",
       "              ('sex', 'male')]),\n",
       " OrderedDict([('id', 5),\n",
       "              ('name', 'Paul Dirac'),\n",
       "              ('category', 'Physics'),\n",
       "              ('year', 1933),\n",
       "              ('nationality', 'British'),\n",
       "              ('sex', 'male')]),\n",
       " OrderedDict([('id', 6),\n",
       "              ('name', 'Marie Curie'),\n",
       "              ('category', 'Chemistry'),\n",
       "              ('year', 1911),\n",
       "              ('nationality', 'Polish'),\n",
       "              ('sex', 'female')]),\n",
       " OrderedDict([('id', 7),\n",
       "              ('name', 'Albert Einstein'),\n",
       "              ('category', 'Physics'),\n",
       "              ('year', 1921),\n",
       "              ('nationality', 'Swiss'),\n",
       "              ('sex', 'male')]),\n",
       " OrderedDict([('id', 8),\n",
       "              ('name', 'Paul Dirac'),\n",
       "              ('category', 'Physics'),\n",
       "              ('year', 1933),\n",
       "              ('nationality', 'British'),\n",
       "              ('sex', 'male')]),\n",
       " OrderedDict([('id', 9),\n",
       "              ('name', 'Marie Curie'),\n",
       "              ('category', 'Chemistry'),\n",
       "              ('year', 1911),\n",
       "              ('nationality', 'Polish'),\n",
       "              ('sex', 'female')])]"
      ]
     },
     "execution_count": 53,
     "metadata": {},
     "output_type": "execute_result"
    }
   ],
   "source": [
    "list(db['winners'].find())"
   ]
  },
  {
   "cell_type": "code",
   "execution_count": 54,
   "id": "9dbdfead-e240-441a-ab9d-2ebc80cf691f",
   "metadata": {},
   "outputs": [],
   "source": [
    "from datafreeze import freeze\n",
    "\n",
    "winners = db['winners'].find()\n",
    "freeze(winners,format = 'csv',\n",
    "    filename='data/nobel_winners_ds.csv')"
   ]
  },
  {
   "cell_type": "code",
   "execution_count": 55,
   "id": "9df1eb8b-a0a9-4299-bd3b-ece3d30b72f0",
   "metadata": {},
   "outputs": [
    {
     "data": {
      "text/plain": [
       "'id,name,category,year,nationality,sex\\n1,Albert Einstein,Physics,1921,Swiss,male\\n2,Paul Dirac,Physics,1933,British,male\\n3,Marie Curie,Chemistry,1911,Polish,female\\n4,Albert Einstein,Physics,1921,Swiss,male\\n5,Paul Dirac,Physics,1933,British,male\\n6,Marie Curie,Chemistry,1911,Polish,female\\n7,Albert Einstein,Physics,1921,Swiss,male\\n8,Paul Dirac,Physics,1933,British,male\\n9,Marie Curie,Chemistry,1911,Polish,female\\n'"
      ]
     },
     "execution_count": 55,
     "metadata": {},
     "output_type": "execute_result"
    }
   ],
   "source": [
    "open('data/nobel_winners_ds.csv').read()"
   ]
  },
  {
   "cell_type": "markdown",
   "id": "6ba2e0e9-f918-40a2-a21c-5a787456531d",
   "metadata": {},
   "source": [
    "Work with MongoDB"
   ]
  },
  {
   "cell_type": "code",
   "execution_count": 56,
   "id": "325f8849-4460-4a87-bb36-ba282f2c6f3a",
   "metadata": {},
   "outputs": [],
   "source": [
    "from pymongo import MongoClient"
   ]
  },
  {
   "cell_type": "code",
   "execution_count": 57,
   "id": "a081f955-cb87-4c2d-85ea-e91ac0030b02",
   "metadata": {},
   "outputs": [],
   "source": [
    "client = MongoClient()\n",
    "db = client.nobel_prize\n",
    "coll = db.winners #if exist, retrieve it, otherwise create it"
   ]
  },
  {
   "cell_type": "code",
   "execution_count": 58,
   "id": "b84799c8-f55c-434f-a7f2-0ff2b584315e",
   "metadata": {},
   "outputs": [],
   "source": [
    "db = client.nobel_prize\n",
    "db = client['nobel_prize']"
   ]
  },
  {
   "cell_type": "code",
   "execution_count": 59,
   "id": "ff38760d-709f-416e-9bc1-d8f6b4fea05d",
   "metadata": {},
   "outputs": [],
   "source": [
    "DB_NOBEL_PRIZE = 'nobel_prize'\n",
    "COLL_WINNERS = 'winners'\n",
    "\n",
    "db = client[DB_NOBEL_PRIZE]\n",
    "coll = db[COLL_WINNERS]"
   ]
  },
  {
   "cell_type": "code",
   "execution_count": 60,
   "id": "91987ad2-51e1-42d5-a99c-be6caf101f63",
   "metadata": {},
   "outputs": [],
   "source": [
    "#accessing MongoDB database\n",
    "def get_mongo_database(db_name,host='localhost',\n",
    "                       port=27017,username=None, password=None):\n",
    "    '''get named database from MongoDB w/o authentication'''\n",
    "    #make Mongo connection w/o authentication\n",
    "    if username and password:\n",
    "        #URI: uniform resource identifier)\n",
    "        mongo_uri = 'mongodb://%s:%s@%s/%S'%(username, password,host, db_name)\n",
    "        conn = MongoClient(mongo_uri)\n",
    "    else:\n",
    "        conn = MongoClient(host,port)\n",
    "    return conn[db_name]"
   ]
  },
  {
   "cell_type": "code",
   "execution_count": 61,
   "id": "2e886864-7b9b-4cb1-888d-bbb460c42ec1",
   "metadata": {},
   "outputs": [],
   "source": [
    "#create database and add target dataset\n",
    "db = get_mongo_database(DB_NOBEL_PRIZE)\n",
    "coll = db[COLL_WINNERS]"
   ]
  },
  {
   "cell_type": "code",
   "execution_count": 62,
   "id": "02748dab-4c27-46ec-b94c-e14f84f811e6",
   "metadata": {},
   "outputs": [
    {
     "data": {
      "text/plain": [
       "InsertManyResult([ObjectId('67623a40fa743ea7368d3a76'), ObjectId('67623a40fa743ea7368d3a77'), ObjectId('67623a40fa743ea7368d3a78'), ObjectId('67623a40fa743ea7368d3a79'), ObjectId('67623a40fa743ea7368d3a7a'), ObjectId('67623a40fa743ea7368d3a7b'), ObjectId('67623a40fa743ea7368d3a7c'), ObjectId('67623a40fa743ea7368d3a7d'), ObjectId('67623a40fa743ea7368d3a7e')], acknowledged=True)"
      ]
     },
     "execution_count": 62,
     "metadata": {},
     "output_type": "execute_result"
    }
   ],
   "source": [
    "coll.insert_many(nobel_winners)"
   ]
  },
  {
   "cell_type": "code",
   "execution_count": 68,
   "id": "bef6b092-d483-46a2-ac4f-80bd2824df8d",
   "metadata": {},
   "outputs": [
    {
     "name": "stdout",
     "output_type": "stream",
     "text": [
      "Duplicate records removed.\n"
     ]
    }
   ],
   "source": [
    "#remove duplicates\n",
    "pipeline = [\n",
    "    {\n",
    "        \"$group\": {\n",
    "            \"_id\": {\n",
    "                \"name\": \"$name\",\n",
    "                \"category\": \"$category\",\n",
    "                \"year\": \"$year\",\n",
    "                \"nationality\": \"$nationality\",\n",
    "                \"sex\": \"$sex\"\n",
    "            },\n",
    "            \"ids\": {\"$push\": \"$_id\"},\n",
    "            \"count\": {\"$sum\": 1}\n",
    "        }\n",
    "    },\n",
    "    {\"$match\": {\"count\": {\"$gt\": 1}}}\n",
    "]\n",
    "\n",
    "# Find duplicates\n",
    "duplicates = list(coll.aggregate(pipeline))\n",
    "\n",
    "# Remove duplicates\n",
    "for group in duplicates:\n",
    "    ids = group[\"ids\"]\n",
    "    coll.delete_many({\"_id\": {\"$in\": ids[1:]}})\n",
    "\n",
    "print(\"Duplicate records removed.\")"
   ]
  },
  {
   "cell_type": "code",
   "execution_count": 72,
   "id": "aa71715c-0705-4143-a483-c5f9b8b247ba",
   "metadata": {},
   "outputs": [
    {
     "name": "stdout",
     "output_type": "stream",
     "text": [
      "{'_id': ObjectId('6762397502c3bc628a4205ce'), 'name': 'Albert Einstein', 'category': 'Physics', 'year': 1921, 'nationality': 'Swiss', 'sex': 'male'}\n",
      "{'_id': ObjectId('6762397502c3bc628a4205cf'), 'name': 'Paul Dirac', 'category': 'Physics', 'year': 1933, 'nationality': 'British', 'sex': 'male'}\n",
      "{'_id': ObjectId('6762397502c3bc628a4205d0'), 'name': 'Marie Curie', 'category': 'Chemistry', 'year': 1911, 'nationality': 'Polish', 'sex': 'female'}\n"
     ]
    }
   ],
   "source": [
    "# Fetch all documents\n",
    "all_docs = list(coll.find())\n",
    "\n",
    "# Print each document\n",
    "for doc in all_docs:\n",
    "    print(doc)"
   ]
  },
  {
   "cell_type": "code",
   "execution_count": 64,
   "id": "3fcb2f62-fd1b-49ce-9e02-cf6eec979381",
   "metadata": {},
   "outputs": [
    {
     "data": {
      "text/plain": [
       "datetime.datetime(2024, 12, 18, 2, 58, 8, tzinfo=FixedOffset(datetime.timedelta(0), 'UTC'))"
      ]
     },
     "execution_count": 64,
     "metadata": {},
     "output_type": "execute_result"
    }
   ],
   "source": [
    "#use of Object ID\n",
    "import bson\n",
    "oid = bson.ObjectId()\n",
    "oid.generation_time"
   ]
  },
  {
   "cell_type": "code",
   "execution_count": 71,
   "id": "2250ac51-6d94-4d3f-abcf-61b68cc45870",
   "metadata": {},
   "outputs": [
    {
     "data": {
      "text/plain": [
       "[{'_id': ObjectId('6762397502c3bc628a4205d0'),\n",
       "  'name': 'Marie Curie',\n",
       "  'category': 'Chemistry',\n",
       "  'year': 1911,\n",
       "  'nationality': 'Polish',\n",
       "  'sex': 'female'}]"
      ]
     },
     "execution_count": 71,
     "metadata": {},
     "output_type": "execute_result"
    }
   ],
   "source": [
    "#find items in the table\n",
    "res = coll.find({'category':'Chemistry'})\n",
    "list(res)"
   ]
  },
  {
   "cell_type": "code",
   "execution_count": 73,
   "id": "ec04b162-1736-41dd-9bf4-8d80cc4bd970",
   "metadata": {},
   "outputs": [
    {
     "data": {
      "text/plain": [
       "[{'_id': ObjectId('6762397502c3bc628a4205cf'),\n",
       "  'name': 'Paul Dirac',\n",
       "  'category': 'Physics',\n",
       "  'year': 1933,\n",
       "  'nationality': 'British',\n",
       "  'sex': 'male'},\n",
       " {'_id': ObjectId('6762397502c3bc628a4205d0'),\n",
       "  'name': 'Marie Curie',\n",
       "  'category': 'Chemistry',\n",
       "  'year': 1911,\n",
       "  'nationality': 'Polish',\n",
       "  'sex': 'female'}]"
      ]
     },
     "execution_count": 73,
     "metadata": {},
     "output_type": "execute_result"
    }
   ],
   "source": [
    "res = coll.find({'$or':[{'year':{'$gt':1930}},{'sex':'female'}]})\n",
    "list(res)"
   ]
  },
  {
   "cell_type": "code",
   "execution_count": 78,
   "id": "3e0a2c9c-8422-4fd3-a0a9-ed625f3916de",
   "metadata": {},
   "outputs": [],
   "source": [
    "#turn mongo table back to python dictionary\n",
    "def mongo_coll_to_dicts(dbname='test',collname='test',\n",
    "                        query={},del_id=True,**kw):\n",
    "    db = get_mongo_database(dbname,**kw)\n",
    "    res = list(db[collname].find(query))\n",
    "\n",
    "    if del_id:\n",
    "        for r in res:\n",
    "            r.pop('_id')\n",
    "    return res"
   ]
  },
  {
   "cell_type": "code",
   "execution_count": 79,
   "id": "508460f0-39b6-46e0-b800-00d7a5f2f0d6",
   "metadata": {},
   "outputs": [
    {
     "data": {
      "text/plain": [
       "[{'name': 'Albert Einstein',\n",
       "  'category': 'Physics',\n",
       "  'year': 1921,\n",
       "  'nationality': 'Swiss',\n",
       "  'sex': 'male'},\n",
       " {'name': 'Paul Dirac',\n",
       "  'category': 'Physics',\n",
       "  'year': 1933,\n",
       "  'nationality': 'British',\n",
       "  'sex': 'male'},\n",
       " {'name': 'Marie Curie',\n",
       "  'category': 'Chemistry',\n",
       "  'year': 1911,\n",
       "  'nationality': 'Polish',\n",
       "  'sex': 'female'}]"
      ]
     },
     "execution_count": 79,
     "metadata": {},
     "output_type": "execute_result"
    }
   ],
   "source": [
    "mongo_coll_to_dicts(DB_NOBEL_PRIZE,COLL_WINNERS)"
   ]
  },
  {
   "cell_type": "markdown",
   "id": "8e1c0d15-9ab4-4d3b-a25c-e2cdb43892f0",
   "metadata": {},
   "source": [
    "Dealing with DateTime and Complex Data"
   ]
  },
  {
   "cell_type": "code",
   "execution_count": 81,
   "id": "d4dc7884-4d7e-4ea6-ad7c-0f05ed69361c",
   "metadata": {},
   "outputs": [
    {
     "data": {
      "text/plain": [
       "'2024-12-18T11:15:32.820638'"
      ]
     },
     "execution_count": 81,
     "metadata": {},
     "output_type": "execute_result"
    }
   ],
   "source": [
    "from datetime import datetime\n",
    "\n",
    "d=datetime.now()\n",
    "d.isoformat()"
   ]
  },
  {
   "cell_type": "code",
   "execution_count": 82,
   "id": "c8a03d6d-bd72-41d7-8318-7b67433571b8",
   "metadata": {},
   "outputs": [
    {
     "data": {
      "text/plain": [
       "'\\nd.toISOString()\\n'"
      ]
     },
     "execution_count": 82,
     "metadata": {},
     "output_type": "execute_result"
    }
   ],
   "source": [
    "#convert above string to JSON/CSV to be read by JS\n",
    "'''\n",
    "d = new Date('2024-12-18T11:15:32.820638')\n",
    "'''\n",
    "#to read in python from JS, in JS state\n",
    "'''\n",
    "d.toISOString()\n",
    "'''\n",
    "#miliseconds might lose in the transition process"
   ]
  },
  {
   "cell_type": "code",
   "execution_count": 84,
   "id": "d20b08d5-b62f-45ab-a0e8-1fa86af7733d",
   "metadata": {},
   "outputs": [
    {
     "data": {
      "text/plain": [
       "datetime.datetime(2024, 12, 18, 11, 15, 32, 820638, tzinfo=tzutc())"
      ]
     },
     "execution_count": 84,
     "metadata": {},
     "output_type": "execute_result"
    }
   ],
   "source": [
    "#sanity check \n",
    "from dateutil import parser\n",
    "d = parser.parse('2024-12-18T11:15:32.820638Z')\n",
    "d"
   ]
  },
  {
   "cell_type": "code",
   "execution_count": null,
   "id": "0c434534-50ad-4c2c-8df3-42218dcb0c7b",
   "metadata": {},
   "outputs": [],
   "source": []
  }
 ],
 "metadata": {
  "kernelspec": {
   "display_name": "Python 3 (ipykernel)",
   "language": "python",
   "name": "python3"
  },
  "language_info": {
   "codemirror_mode": {
    "name": "ipython",
    "version": 3
   },
   "file_extension": ".py",
   "mimetype": "text/x-python",
   "name": "python",
   "nbconvert_exporter": "python",
   "pygments_lexer": "ipython3",
   "version": "3.11.10"
  }
 },
 "nbformat": 4,
 "nbformat_minor": 5
}
